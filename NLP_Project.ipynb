{
  "nbformat": 4,
  "nbformat_minor": 0,
  "metadata": {
    "colab": {
      "name": "NLP_Project.ipynb",
      "provenance": [],
      "collapsed_sections": []
    },
    "kernelspec": {
      "name": "python3",
      "display_name": "Python 3"
    },
    "language_info": {
      "name": "python"
    }
  },
  "cells": [
    {
      "cell_type": "code",
      "metadata": {
        "id": "WNVMNkgvdESx"
      },
      "source": [
        "#Importing required Modules\n",
        "import spacy\n",
        "from spacy.lang.en.stop_words import STOP_WORDS\n",
        "from string import punctuation\n",
        "from heapq import nlargest"
      ],
      "execution_count": 24,
      "outputs": []
    },
    {
      "cell_type": "code",
      "metadata": {
        "id": "SSWnhBSPd9Sj"
      },
      "source": [
        "text = \"\"\"The US federal law allows the triggering of sanctions against nations that aim to procure major defence hardware from Russia. This was brought as a response to Russia's annexation of Crimea in 2014 and its alleged meddling in the 2016 US presidential elections.\n",
        "\n",
        "The US said in November it is yet to determine whether it will waive those sanctions with respect to the deal between India and Russia. “We have not made a determination on a potential waiver with respect to Indian arms transactions with Russia. CAATSA does not have a blanket or country-specific waiver provision,” the US state department said in a statement.\n",
        "\n",
        "“We urge all of our allies and partners to forgo transactions with Russia that risk triggering sanctions under the Countering America's Adversaries Through Sanctions Act (CAATSA),” the US urged through its statement while highlighting that it values its strategic partnership with India and expects that the defence partnership between both nations can continue\"\"\""
      ],
      "execution_count": 25,
      "outputs": []
    },
    {
      "cell_type": "code",
      "metadata": {
        "colab": {
          "base_uri": "https://localhost:8080/"
        },
        "id": "s3MFDRzUdbt8",
        "outputId": "35ddce90-f978-40a3-c6c4-b5ab6f9dbc94"
      },
      "source": [
        "stopwords = STOP_WORDS\n",
        "stopwords"
      ],
      "execution_count": 26,
      "outputs": [
        {
          "output_type": "execute_result",
          "data": {
            "text/plain": [
              "{\"'d\",\n",
              " \"'ll\",\n",
              " \"'m\",\n",
              " \"'re\",\n",
              " \"'s\",\n",
              " \"'ve\",\n",
              " 'a',\n",
              " 'about',\n",
              " 'above',\n",
              " 'across',\n",
              " 'after',\n",
              " 'afterwards',\n",
              " 'again',\n",
              " 'against',\n",
              " 'all',\n",
              " 'almost',\n",
              " 'alone',\n",
              " 'along',\n",
              " 'already',\n",
              " 'also',\n",
              " 'although',\n",
              " 'always',\n",
              " 'am',\n",
              " 'among',\n",
              " 'amongst',\n",
              " 'amount',\n",
              " 'an',\n",
              " 'and',\n",
              " 'another',\n",
              " 'any',\n",
              " 'anyhow',\n",
              " 'anyone',\n",
              " 'anything',\n",
              " 'anyway',\n",
              " 'anywhere',\n",
              " 'are',\n",
              " 'around',\n",
              " 'as',\n",
              " 'at',\n",
              " 'back',\n",
              " 'be',\n",
              " 'became',\n",
              " 'because',\n",
              " 'become',\n",
              " 'becomes',\n",
              " 'becoming',\n",
              " 'been',\n",
              " 'before',\n",
              " 'beforehand',\n",
              " 'behind',\n",
              " 'being',\n",
              " 'below',\n",
              " 'beside',\n",
              " 'besides',\n",
              " 'between',\n",
              " 'beyond',\n",
              " 'both',\n",
              " 'bottom',\n",
              " 'but',\n",
              " 'by',\n",
              " 'ca',\n",
              " 'call',\n",
              " 'can',\n",
              " 'cannot',\n",
              " 'could',\n",
              " 'did',\n",
              " 'do',\n",
              " 'does',\n",
              " 'doing',\n",
              " 'done',\n",
              " 'down',\n",
              " 'due',\n",
              " 'during',\n",
              " 'each',\n",
              " 'eight',\n",
              " 'either',\n",
              " 'eleven',\n",
              " 'else',\n",
              " 'elsewhere',\n",
              " 'empty',\n",
              " 'enough',\n",
              " 'even',\n",
              " 'ever',\n",
              " 'every',\n",
              " 'everyone',\n",
              " 'everything',\n",
              " 'everywhere',\n",
              " 'except',\n",
              " 'few',\n",
              " 'fifteen',\n",
              " 'fifty',\n",
              " 'first',\n",
              " 'five',\n",
              " 'for',\n",
              " 'former',\n",
              " 'formerly',\n",
              " 'forty',\n",
              " 'four',\n",
              " 'from',\n",
              " 'front',\n",
              " 'full',\n",
              " 'further',\n",
              " 'get',\n",
              " 'give',\n",
              " 'go',\n",
              " 'had',\n",
              " 'has',\n",
              " 'have',\n",
              " 'he',\n",
              " 'hence',\n",
              " 'her',\n",
              " 'here',\n",
              " 'hereafter',\n",
              " 'hereby',\n",
              " 'herein',\n",
              " 'hereupon',\n",
              " 'hers',\n",
              " 'herself',\n",
              " 'him',\n",
              " 'himself',\n",
              " 'his',\n",
              " 'how',\n",
              " 'however',\n",
              " 'hundred',\n",
              " 'i',\n",
              " 'if',\n",
              " 'in',\n",
              " 'indeed',\n",
              " 'into',\n",
              " 'is',\n",
              " 'it',\n",
              " 'its',\n",
              " 'itself',\n",
              " 'just',\n",
              " 'keep',\n",
              " 'last',\n",
              " 'latter',\n",
              " 'latterly',\n",
              " 'least',\n",
              " 'less',\n",
              " 'made',\n",
              " 'make',\n",
              " 'many',\n",
              " 'may',\n",
              " 'me',\n",
              " 'meanwhile',\n",
              " 'might',\n",
              " 'mine',\n",
              " 'more',\n",
              " 'moreover',\n",
              " 'most',\n",
              " 'mostly',\n",
              " 'move',\n",
              " 'much',\n",
              " 'must',\n",
              " 'my',\n",
              " 'myself',\n",
              " \"n't\",\n",
              " 'name',\n",
              " 'namely',\n",
              " 'neither',\n",
              " 'never',\n",
              " 'nevertheless',\n",
              " 'next',\n",
              " 'nine',\n",
              " 'no',\n",
              " 'nobody',\n",
              " 'none',\n",
              " 'noone',\n",
              " 'nor',\n",
              " 'not',\n",
              " 'nothing',\n",
              " 'now',\n",
              " 'nowhere',\n",
              " 'n‘t',\n",
              " 'n’t',\n",
              " 'of',\n",
              " 'off',\n",
              " 'often',\n",
              " 'on',\n",
              " 'once',\n",
              " 'one',\n",
              " 'only',\n",
              " 'onto',\n",
              " 'or',\n",
              " 'other',\n",
              " 'others',\n",
              " 'otherwise',\n",
              " 'our',\n",
              " 'ours',\n",
              " 'ourselves',\n",
              " 'out',\n",
              " 'over',\n",
              " 'own',\n",
              " 'part',\n",
              " 'per',\n",
              " 'perhaps',\n",
              " 'please',\n",
              " 'put',\n",
              " 'quite',\n",
              " 'rather',\n",
              " 're',\n",
              " 'really',\n",
              " 'regarding',\n",
              " 'same',\n",
              " 'say',\n",
              " 'see',\n",
              " 'seem',\n",
              " 'seemed',\n",
              " 'seeming',\n",
              " 'seems',\n",
              " 'serious',\n",
              " 'several',\n",
              " 'she',\n",
              " 'should',\n",
              " 'show',\n",
              " 'side',\n",
              " 'since',\n",
              " 'six',\n",
              " 'sixty',\n",
              " 'so',\n",
              " 'some',\n",
              " 'somehow',\n",
              " 'someone',\n",
              " 'something',\n",
              " 'sometime',\n",
              " 'sometimes',\n",
              " 'somewhere',\n",
              " 'still',\n",
              " 'such',\n",
              " 'take',\n",
              " 'ten',\n",
              " 'than',\n",
              " 'that',\n",
              " 'the',\n",
              " 'their',\n",
              " 'them',\n",
              " 'themselves',\n",
              " 'then',\n",
              " 'thence',\n",
              " 'there',\n",
              " 'thereafter',\n",
              " 'thereby',\n",
              " 'therefore',\n",
              " 'therein',\n",
              " 'thereupon',\n",
              " 'these',\n",
              " 'they',\n",
              " 'third',\n",
              " 'this',\n",
              " 'those',\n",
              " 'though',\n",
              " 'three',\n",
              " 'through',\n",
              " 'throughout',\n",
              " 'thru',\n",
              " 'thus',\n",
              " 'to',\n",
              " 'together',\n",
              " 'too',\n",
              " 'top',\n",
              " 'toward',\n",
              " 'towards',\n",
              " 'twelve',\n",
              " 'twenty',\n",
              " 'two',\n",
              " 'under',\n",
              " 'unless',\n",
              " 'until',\n",
              " 'up',\n",
              " 'upon',\n",
              " 'us',\n",
              " 'used',\n",
              " 'using',\n",
              " 'various',\n",
              " 'very',\n",
              " 'via',\n",
              " 'was',\n",
              " 'we',\n",
              " 'well',\n",
              " 'were',\n",
              " 'what',\n",
              " 'whatever',\n",
              " 'when',\n",
              " 'whence',\n",
              " 'whenever',\n",
              " 'where',\n",
              " 'whereafter',\n",
              " 'whereas',\n",
              " 'whereby',\n",
              " 'wherein',\n",
              " 'whereupon',\n",
              " 'wherever',\n",
              " 'whether',\n",
              " 'which',\n",
              " 'while',\n",
              " 'whither',\n",
              " 'who',\n",
              " 'whoever',\n",
              " 'whole',\n",
              " 'whom',\n",
              " 'whose',\n",
              " 'why',\n",
              " 'will',\n",
              " 'with',\n",
              " 'within',\n",
              " 'without',\n",
              " 'would',\n",
              " 'yet',\n",
              " 'you',\n",
              " 'your',\n",
              " 'yours',\n",
              " 'yourself',\n",
              " 'yourselves',\n",
              " '‘d',\n",
              " '‘ll',\n",
              " '‘m',\n",
              " '‘re',\n",
              " '‘s',\n",
              " '‘ve',\n",
              " '’d',\n",
              " '’ll',\n",
              " '’m',\n",
              " '’re',\n",
              " '’s',\n",
              " '’ve'}"
            ]
          },
          "metadata": {},
          "execution_count": 26
        }
      ]
    },
    {
      "cell_type": "code",
      "metadata": {
        "id": "oRH2v9qKdo50"
      },
      "source": [
        "nlp = spacy.load('en_core_web_sm')\n"
      ],
      "execution_count": 27,
      "outputs": []
    },
    {
      "cell_type": "code",
      "metadata": {
        "id": "l1ND1Clqdz9I"
      },
      "source": [
        "doc = nlp(text)"
      ],
      "execution_count": 28,
      "outputs": []
    },
    {
      "cell_type": "code",
      "metadata": {
        "colab": {
          "base_uri": "https://localhost:8080/"
        },
        "id": "jwI-W4FNejX-",
        "outputId": "a8f1b738-f68d-42bd-db0f-cca2e4620b81"
      },
      "source": [
        "# Getting tokens from our text\n",
        "tokens = [token.text for token in doc]\n",
        "print(tokens)"
      ],
      "execution_count": 29,
      "outputs": [
        {
          "output_type": "stream",
          "name": "stdout",
          "text": [
            "['The', 'US', 'federal', 'law', 'allows', 'the', 'triggering', 'of', 'sanctions', 'against', 'nations', 'that', 'aim', 'to', 'procure', 'major', 'defence', 'hardware', 'from', 'Russia', '.', 'This', 'was', 'brought', 'as', 'a', 'response', 'to', 'Russia', \"'s\", 'annexation', 'of', 'Crimea', 'in', '2014', 'and', 'its', 'alleged', 'meddling', 'in', 'the', '2016', 'US', 'presidential', 'elections', '.', '\\n\\n', 'The', 'US', 'said', 'in', 'November', 'it', 'is', 'yet', 'to', 'determine', 'whether', 'it', 'will', 'waive', 'those', 'sanctions', 'with', 'respect', 'to', 'the', 'deal', 'between', 'India', 'and', 'Russia', '.', '“', 'We', 'have', 'not', 'made', 'a', 'determination', 'on', 'a', 'potential', 'waiver', 'with', 'respect', 'to', 'Indian', 'arms', 'transactions', 'with', 'Russia', '.', 'CAATSA', 'does', 'not', 'have', 'a', 'blanket', 'or', 'country', '-', 'specific', 'waiver', 'provision', ',', '”', 'the', 'US', 'state', 'department', 'said', 'in', 'a', 'statement', '.', '\\n\\n', '“', 'We', 'urge', 'all', 'of', 'our', 'allies', 'and', 'partners', 'to', 'forgo', 'transactions', 'with', 'Russia', 'that', 'risk', 'triggering', 'sanctions', 'under', 'the', 'Countering', 'America', \"'s\", 'Adversaries', 'Through', 'Sanctions', 'Act', '(', 'CAATSA', ')', ',', '”', 'the', 'US', 'urged', 'through', 'its', 'statement', 'while', 'highlighting', 'that', 'it', 'values', 'its', 'strategic', 'partnership', 'with', 'India', 'and', 'expects', 'that', 'the', 'defence', 'partnership', 'between', 'both', 'nations', 'can', 'continue']\n"
          ]
        }
      ]
    },
    {
      "cell_type": "code",
      "metadata": {
        "colab": {
          "base_uri": "https://localhost:8080/",
          "height": 35
        },
        "id": "QmWSDM_UexAO",
        "outputId": "a7ed895f-c612-4b3b-9528-721d9d1caba2"
      },
      "source": [
        "punctuation = punctuation + \"\\n\"\n",
        "punctuation"
      ],
      "execution_count": 30,
      "outputs": [
        {
          "output_type": "execute_result",
          "data": {
            "application/vnd.google.colaboratory.intrinsic+json": {
              "type": "string"
            },
            "text/plain": [
              "'!\"#$%&\\'()*+,-./:;<=>?@[\\\\]^_`{|}~\\n'"
            ]
          },
          "metadata": {},
          "execution_count": 30
        }
      ]
    },
    {
      "cell_type": "code",
      "metadata": {
        "id": "LoMdUOZDe-4R"
      },
      "source": [
        "# Calculating for Word Frequency table to get frequency of every word\n",
        "\n",
        "word_frequencies = {}\n",
        "for word in doc:\n",
        "  if word.text.lower() not in stopwords:\n",
        "    if word.text.lower() not in punctuation:\n",
        "      if word.text not in word_frequencies.keys():\n",
        "        word_frequencies[word.text] = 1\n",
        "      else:\n",
        "        word_frequencies[word.text] += 1"
      ],
      "execution_count": 31,
      "outputs": []
    },
    {
      "cell_type": "code",
      "metadata": {
        "colab": {
          "base_uri": "https://localhost:8080/"
        },
        "id": "tPkKtoYvfaWV",
        "outputId": "8ebbdedf-16df-42c2-a247-459455c565a1"
      },
      "source": [
        "print(word_frequencies)"
      ],
      "execution_count": 32,
      "outputs": [
        {
          "output_type": "stream",
          "name": "stdout",
          "text": [
            "{'federal': 1, 'law': 1, 'allows': 1, 'triggering': 2, 'sanctions': 3, 'nations': 2, 'aim': 1, 'procure': 1, 'major': 1, 'defence': 2, 'hardware': 1, 'Russia': 5, 'brought': 1, 'response': 1, 'annexation': 1, 'Crimea': 1, '2014': 1, 'alleged': 1, 'meddling': 1, '2016': 1, 'presidential': 1, 'elections': 1, '\\n\\n': 2, 'said': 2, 'November': 1, 'determine': 1, 'waive': 1, 'respect': 2, 'deal': 1, 'India': 2, '“': 2, 'determination': 1, 'potential': 1, 'waiver': 2, 'Indian': 1, 'arms': 1, 'transactions': 2, 'CAATSA': 2, 'blanket': 1, 'country': 1, 'specific': 1, 'provision': 1, '”': 2, 'state': 1, 'department': 1, 'statement': 2, 'urge': 1, 'allies': 1, 'partners': 1, 'forgo': 1, 'risk': 1, 'Countering': 1, 'America': 1, 'Adversaries': 1, 'Sanctions': 1, 'Act': 1, 'urged': 1, 'highlighting': 1, 'values': 1, 'strategic': 1, 'partnership': 2, 'expects': 1, 'continue': 1}\n"
          ]
        }
      ]
    },
    {
      "cell_type": "code",
      "metadata": {
        "colab": {
          "base_uri": "https://localhost:8080/"
        },
        "id": "X5B6xz9rfn_j",
        "outputId": "6e3da713-0094-4983-8664-c855c74834a8"
      },
      "source": [
        "max_frequency = max(word_frequencies.values())\n",
        "max_frequency"
      ],
      "execution_count": 33,
      "outputs": [
        {
          "output_type": "execute_result",
          "data": {
            "text/plain": [
              "5"
            ]
          },
          "metadata": {},
          "execution_count": 33
        }
      ]
    },
    {
      "cell_type": "code",
      "metadata": {
        "id": "Gxb8znYyfywE"
      },
      "source": [
        "# Normalizing Word Frequency\n",
        "for word in word_frequencies.keys():\n",
        "  word_frequencies[word] = word_frequencies[word]/max_frequency"
      ],
      "execution_count": 34,
      "outputs": []
    },
    {
      "cell_type": "code",
      "metadata": {
        "colab": {
          "base_uri": "https://localhost:8080/"
        },
        "id": "_WHW3y9ZgACw",
        "outputId": "8e57ff16-e85d-44fe-e1ce-b9ec3910fefe"
      },
      "source": [
        "print(word_frequencies)"
      ],
      "execution_count": 35,
      "outputs": [
        {
          "output_type": "stream",
          "name": "stdout",
          "text": [
            "{'federal': 0.2, 'law': 0.2, 'allows': 0.2, 'triggering': 0.4, 'sanctions': 0.6, 'nations': 0.4, 'aim': 0.2, 'procure': 0.2, 'major': 0.2, 'defence': 0.4, 'hardware': 0.2, 'Russia': 1.0, 'brought': 0.2, 'response': 0.2, 'annexation': 0.2, 'Crimea': 0.2, '2014': 0.2, 'alleged': 0.2, 'meddling': 0.2, '2016': 0.2, 'presidential': 0.2, 'elections': 0.2, '\\n\\n': 0.4, 'said': 0.4, 'November': 0.2, 'determine': 0.2, 'waive': 0.2, 'respect': 0.4, 'deal': 0.2, 'India': 0.4, '“': 0.4, 'determination': 0.2, 'potential': 0.2, 'waiver': 0.4, 'Indian': 0.2, 'arms': 0.2, 'transactions': 0.4, 'CAATSA': 0.4, 'blanket': 0.2, 'country': 0.2, 'specific': 0.2, 'provision': 0.2, '”': 0.4, 'state': 0.2, 'department': 0.2, 'statement': 0.4, 'urge': 0.2, 'allies': 0.2, 'partners': 0.2, 'forgo': 0.2, 'risk': 0.2, 'Countering': 0.2, 'America': 0.2, 'Adversaries': 0.2, 'Sanctions': 0.2, 'Act': 0.2, 'urged': 0.2, 'highlighting': 0.2, 'values': 0.2, 'strategic': 0.2, 'partnership': 0.4, 'expects': 0.2, 'continue': 0.2}\n"
          ]
        }
      ]
    },
    {
      "cell_type": "code",
      "metadata": {
        "colab": {
          "base_uri": "https://localhost:8080/"
        },
        "id": "2B9koFw9gNdU",
        "outputId": "3effa49b-b345-4d01-ebcd-6b83c95d9ca8"
      },
      "source": [
        "# Sentence Tokenizations\n",
        "\n",
        "sentence_tokens = [sent for sent in doc.sents]\n",
        "print(sentence_tokens)"
      ],
      "execution_count": 36,
      "outputs": [
        {
          "output_type": "stream",
          "name": "stdout",
          "text": [
            "[The US federal law allows the triggering of sanctions against nations that aim to procure major defence hardware from Russia., This was brought as a response to Russia's annexation of Crimea in 2014 and its alleged meddling in the 2016 US presidential elections.\n",
            "\n",
            ", The US said in November it is yet to determine whether it will waive those sanctions with respect to the deal between India and Russia., “We have not made a determination on a potential waiver with respect to Indian arms transactions with Russia., CAATSA does not have a blanket or country-specific waiver provision,” the US state department said in a statement.\n",
            "\n",
            ", “We urge all of our allies and partners to forgo transactions with Russia that risk triggering sanctions under the Countering America's Adversaries Through Sanctions Act (CAATSA),” the US urged through its statement while highlighting that it values its strategic partnership with India and expects that the defence partnership between both nations can continue]\n"
          ]
        }
      ]
    },
    {
      "cell_type": "code",
      "metadata": {
        "id": "xxEc829kgYME"
      },
      "source": [
        "# Add the word frequencies of every word and calculate the sentence score for \n",
        "# for every sentence to determine the important sentences\n",
        "sentence_scores = {}\n",
        "for sent in sentence_tokens:\n",
        "  for word in sent:\n",
        "    if word.text.lower() in word_frequencies.keys():\n",
        "      if sent not in sentence_scores.keys():\n",
        "        sentence_scores[sent] = word_frequencies[word.text.lower()]\n",
        "      else:\n",
        "        sentence_scores[sent] += word_frequencies[word.text.lower()]"
      ],
      "execution_count": 37,
      "outputs": []
    },
    {
      "cell_type": "code",
      "metadata": {
        "colab": {
          "base_uri": "https://localhost:8080/"
        },
        "id": "Oo9W1c7zg8hb",
        "outputId": "0c29ee82-f6ca-4af3-af3c-eefb9904fc8f"
      },
      "source": [
        "sentence_scores"
      ],
      "execution_count": 38,
      "outputs": [
        {
          "output_type": "execute_result",
          "data": {
            "text/plain": [
              "{The US federal law allows the triggering of sanctions against nations that aim to procure major defence hardware from Russia.: 3.2000000000000006,\n",
              " This was brought as a response to Russia's annexation of Crimea in 2014 and its alleged meddling in the 2016 US presidential elections.\n",
              " : 2.1999999999999997,\n",
              " The US said in November it is yet to determine whether it will waive those sanctions with respect to the deal between India and Russia.: 1.9999999999999998,\n",
              " “We have not made a determination on a potential waiver with respect to Indian arms transactions with Russia.: 2.2,\n",
              " CAATSA does not have a blanket or country-specific waiver provision,” the US state department said in a statement.\n",
              " : 3.1999999999999997,\n",
              " “We urge all of our allies and partners to forgo transactions with Russia that risk triggering sanctions under the Countering America's Adversaries Through Sanctions Act (CAATSA),” the US urged through its statement while highlighting that it values its strategic partnership with India and expects that the defence partnership between both nations can continue: 7.000000000000003}"
            ]
          },
          "metadata": {},
          "execution_count": 38
        }
      ]
    },
    {
      "cell_type": "code",
      "metadata": {
        "colab": {
          "base_uri": "https://localhost:8080/"
        },
        "id": "6fZ-0hBohGOz",
        "outputId": "100b6564-1bd9-4ad2-9d66-8cea7f3b623a"
      },
      "source": [
        "# Determining the percentage we want to reduce our original text into / \n",
        "# No of sentences we are going to summarize the text\n",
        "select_length = int(len(sentence_tokens) * 0.3)\n",
        "select_length"
      ],
      "execution_count": 39,
      "outputs": [
        {
          "output_type": "execute_result",
          "data": {
            "text/plain": [
              "1"
            ]
          },
          "metadata": {},
          "execution_count": 39
        }
      ]
    },
    {
      "cell_type": "code",
      "metadata": {
        "id": "cVLTr3LQhPIr"
      },
      "source": [
        "# Got the sentences with most sentence_scores\n",
        "summary = nlargest(select_length, sentence_scores, key = sentence_scores.get)"
      ],
      "execution_count": 40,
      "outputs": []
    },
    {
      "cell_type": "code",
      "metadata": {
        "colab": {
          "base_uri": "https://localhost:8080/"
        },
        "id": "zyFNge6Hhf0m",
        "outputId": "5d295d1e-48c5-42e8-c762-412680e35495"
      },
      "source": [
        "summary"
      ],
      "execution_count": 41,
      "outputs": [
        {
          "output_type": "execute_result",
          "data": {
            "text/plain": [
              "[“We urge all of our allies and partners to forgo transactions with Russia that risk triggering sanctions under the Countering America's Adversaries Through Sanctions Act (CAATSA),” the US urged through its statement while highlighting that it values its strategic partnership with India and expects that the defence partnership between both nations can continue]"
            ]
          },
          "metadata": {},
          "execution_count": 41
        }
      ]
    },
    {
      "cell_type": "code",
      "metadata": {
        "colab": {
          "base_uri": "https://localhost:8080/"
        },
        "id": "JDI_u8LKhntI",
        "outputId": "f10f5819-a929-4199-f5af-529bebc75f8a"
      },
      "source": [
        "final_summary = [word.text for word in summary]\n",
        "final_summary"
      ],
      "execution_count": 42,
      "outputs": [
        {
          "output_type": "execute_result",
          "data": {
            "text/plain": [
              "[\"“We urge all of our allies and partners to forgo transactions with Russia that risk triggering sanctions under the Countering America's Adversaries Through Sanctions Act (CAATSA),” the US urged through its statement while highlighting that it values its strategic partnership with India and expects that the defence partnership between both nations can continue\"]"
            ]
          },
          "metadata": {},
          "execution_count": 42
        }
      ]
    },
    {
      "cell_type": "code",
      "metadata": {
        "id": "3e_oA053iQyq"
      },
      "source": [
        "text"
      ],
      "execution_count": null,
      "outputs": []
    },
    {
      "cell_type": "code",
      "metadata": {
        "id": "Pexkr7OFh80z"
      },
      "source": [
        "summary = \" \".join(final_summary)\n",
        "summary"
      ],
      "execution_count": null,
      "outputs": []
    },
    {
      "cell_type": "code",
      "metadata": {
        "colab": {
          "base_uri": "https://localhost:8080/"
        },
        "id": "OfXPCo5KiPLQ",
        "outputId": "ad1e176f-5695-4afe-8cfc-79268369ac89"
      },
      "source": [
        "len(text)"
      ],
      "execution_count": 45,
      "outputs": [
        {
          "output_type": "execute_result",
          "data": {
            "text/plain": [
              "986"
            ]
          },
          "metadata": {},
          "execution_count": 45
        }
      ]
    },
    {
      "cell_type": "code",
      "metadata": {
        "colab": {
          "base_uri": "https://localhost:8080/"
        },
        "id": "A8hCr3VQiiQM",
        "outputId": "3a0015d6-2739-4b7a-ead9-9081db38dfd3"
      },
      "source": [
        "len(summary)"
      ],
      "execution_count": 46,
      "outputs": [
        {
          "output_type": "execute_result",
          "data": {
            "text/plain": [
              "361"
            ]
          },
          "metadata": {},
          "execution_count": 46
        }
      ]
    }
  ]
}